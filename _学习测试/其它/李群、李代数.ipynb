{
 "cells": [
  {
   "cell_type": "code",
   "execution_count": 1,
   "metadata": {
    "tags": []
   },
   "outputs": [],
   "source": [
    "from scipy.linalg import expm\n",
    "from scipy.linalg import logm\n",
    "import numpy as np\n",
    "from math import *"
   ]
  },
  {
   "cell_type": "code",
   "execution_count": 2,
   "metadata": {
    "collapsed": false,
    "jupyter": {
     "outputs_hidden": false
    },
    "pycharm": {
     "name": "#%%\n"
    }
   },
   "outputs": [],
   "source": [
    "# 将向量转换为反对称矩阵 https://blog.csdn.net/weixin_44995665/article/details/102682666\n",
    "def SkewFun(a):\n",
    "    \"\"\"\n",
    "    得到了李代数对应的反对称矩阵\n",
    "    got the corresponded antiSymmetric Matrix of the Lie algebra\n",
    "    :param a:   Lie algebra 李代数\n",
    "    :return:    antiSymmetric Matrix 反对称矩阵\n",
    "    \"\"\"\n",
    "    if len(a) == 3:\n",
    "        A = np.array([[0, -a[2], a[1]],\n",
    "                      [a[2], 0, -a[0]],\n",
    "                      [-a[1], a[0], 0]])\n",
    "        return A\n",
    "\n",
    "    if len(a) == 2:\n",
    "        A = np.array([a[1], -a[0]])\n",
    "        return A\n",
    "    exit(-1)"
   ]
  },
  {
   "cell_type": "code",
   "execution_count": 3,
   "metadata": {
    "collapsed": false,
    "jupyter": {
     "outputs_hidden": false
    },
    "pycharm": {
     "name": "#%%\n"
    }
   },
   "outputs": [],
   "source": [
    "# 将向量转换为反对称矩阵\n",
    "def InvSkewFun(A):\n",
    "    V = np.array([A[2,1],A[0,2],A[1,0]])\n",
    "    return V\n",
    "    exit(-1)"
   ]
  },
  {
   "cell_type": "code",
   "execution_count": 4,
   "metadata": {
    "collapsed": false,
    "jupyter": {
     "outputs_hidden": false
    },
    "pycharm": {
     "name": "#%%\n"
    }
   },
   "outputs": [],
   "source": [
    "# 李代数转李群\n",
    "def so3ToSO3(xi):\n",
    "    return expm(SkewFun(xi))"
   ]
  },
  {
   "cell_type": "code",
   "execution_count": 5,
   "metadata": {
    "collapsed": false,
    "jupyter": {
     "outputs_hidden": false
    },
    "pycharm": {
     "name": "#%%\n"
    }
   },
   "outputs": [
    {
     "name": "stdout",
     "output_type": "stream",
     "text": [
      "[[ 6.123234e-17 -1.000000e+00  0.000000e+00]\n",
      " [ 1.000000e+00  6.123234e-17  0.000000e+00]\n",
      " [ 0.000000e+00  0.000000e+00  1.000000e+00]]\n",
      "aaa=\n",
      "[0.         0.         1.57079633]\n"
     ]
    },
    {
     "data": {
      "text/plain": [
       "1.570796326794897"
      ]
     },
     "execution_count": 5,
     "metadata": {},
     "output_type": "execute_result"
    }
   ],
   "source": [
    "# 李群转李代数\n",
    "tx=0\n",
    "ty=0\n",
    "tz=pi/2\n",
    "\n",
    "Rx=np.array(\n",
    "    [\n",
    "        [1,     0,          0],\n",
    "        [0,     cos(tx),    -sin(tx)],\n",
    "        [0,     sin(tx),    cos(tx)]\n",
    "    ])\n",
    "Ry=np.array(\n",
    "    [\n",
    "        [cos(ty),   0,      sin(ty)  ],\n",
    "        [0,         1,      0        ],\n",
    "        [-sin(ty),  0,      cos(ty)  ]\n",
    "    ])\n",
    "Rz=np.array(\n",
    "    [\n",
    "        [cos(tz),   -sin(tz),   0],\n",
    "        [sin(tz),   cos(tz),    0],\n",
    "        [0,         0,          1]\n",
    "    ])\n",
    "\n",
    "R = Rz.dot(Ry.dot(Rx))\n",
    "\n",
    "r = logm(R)\n",
    "aaa = InvSkewFun(r)\n",
    "print(R)\n",
    "print(\"aaa=\")\n",
    "print(aaa)\n",
    "\n",
    "np.linalg.norm(aaa)"
   ]
  },
  {
   "cell_type": "code",
   "execution_count": 6,
   "metadata": {
    "collapsed": false,
    "jupyter": {
     "outputs_hidden": false
    },
    "pycharm": {
     "name": "#%%\n"
    }
   },
   "outputs": [
    {
     "name": "stdout",
     "output_type": "stream",
     "text": [
      "[[ 9.99999500e-01 -9.99999833e-04  0.00000000e+00]\n",
      " [ 9.99999833e-04  9.99999500e-01  0.00000000e+00]\n",
      " [ 0.00000000e+00  0.00000000e+00  1.00000000e+00]]\n",
      "trace=\n",
      "2.9999990000000833\n",
      "eig =\n",
      "theta\n",
      "0.001\n",
      "[0. 0. 1.]\n"
     ]
    },
    {
     "data": {
      "text/plain": [
       "array([[ 1.00000000e+00, -9.99499833e-04,  4.99999958e-07],\n",
       "       [ 1.00049983e-03,  1.00000000e+00,  4.99999958e-07],\n",
       "       [ 4.99999958e-07,  4.99999958e-07,  1.00000000e+00]])"
      ]
     },
     "execution_count": 6,
     "metadata": {},
     "output_type": "execute_result"
    }
   ],
   "source": [
    "# 李代数转李群\n",
    "aaa[2]=0.001\n",
    "M = expm(SkewFun(aaa))\n",
    "#M = expm(SkewFun([2,2,2]))\n",
    "print(M)\n",
    "\n",
    "print(\"trace=\")\n",
    "print(np.trace(M))\n",
    "\n",
    "print(\"eig =\")\n",
    "np.linalg.eig(M)\n",
    "\n",
    "print(\"theta\")\n",
    "theta=np.linalg.norm(aaa)\n",
    "print(theta)\n",
    "a=aaa/theta\n",
    "print(a)\n",
    "\n",
    "np.cos(theta)*np.eye(3) + (1-np.cos(theta))*a.T.dot(a) + np.sin(theta)*SkewFun(a)"
   ]
  },
  {
   "cell_type": "code",
   "execution_count": 7,
   "metadata": {
    "collapsed": false,
    "jupyter": {
     "outputs_hidden": false
    },
    "pycharm": {
     "name": "#%%\n"
    }
   },
   "outputs": [
    {
     "name": "stdout",
     "output_type": "stream",
     "text": [
      "[0.    0.    0.001]\n",
      "[[ 0.    -0.001  0.   ]\n",
      " [ 0.001  0.    -0.   ]\n",
      " [-0.     0.     0.   ]]\n",
      "[[ 9.99999500e-01 -9.99999833e-04  0.00000000e+00]\n",
      " [ 9.99999833e-04  9.99999500e-01  0.00000000e+00]\n",
      " [ 0.00000000e+00  0.00000000e+00  1.00000000e+00]]\n",
      "总结：\n",
      "正交矩阵取矩阵对数得到的结果为反对称矩阵，而反对称矩阵与向量一一对应，因此正交矩阵与向量可得到一对一的映射\n"
     ]
    }
   ],
   "source": [
    "print(aaa)\n",
    "print(SkewFun(aaa))\n",
    "print(expm(SkewFun(aaa)))\n",
    "\n",
    "print(\"总结：\\r\\n正交矩阵取矩阵对数得到的结果为反对称矩阵，而反对称矩阵与向量一一对应，因此正交矩阵与向量可得到一对一的映射\")"
   ]
  },
  {
   "cell_type": "code",
   "execution_count": 8,
   "metadata": {
    "collapsed": false,
    "jupyter": {
     "outputs_hidden": false
    },
    "pycharm": {
     "name": "#%%\n"
    }
   },
   "outputs": [
    {
     "data": {
      "text/plain": [
       "array([[ 0,  0,  0],\n",
       "       [ 0,  0, -1],\n",
       "       [ 0,  1,  0]])"
      ]
     },
     "execution_count": 8,
     "metadata": {},
     "output_type": "execute_result"
    }
   ],
   "source": [
    "SkewFun([1,0,0])"
   ]
  },
  {
   "cell_type": "code",
   "execution_count": 10,
   "metadata": {
    "collapsed": false,
    "jupyter": {
     "outputs_hidden": false
    },
    "pycharm": {
     "name": "#%%\n"
    }
   },
   "outputs": [
    {
     "name": "stdout",
     "output_type": "stream",
     "text": [
      "[[ 6.123234e-17 -1.000000e+00  0.000000e+00  1.000000e+00]\n",
      " [ 1.000000e+00  6.123234e-17  0.000000e+00  0.000000e+00]\n",
      " [ 0.000000e+00  0.000000e+00  1.000000e+00  0.000000e+00]\n",
      " [ 0.000000e+00  0.000000e+00  0.000000e+00  1.000000e+00]]\n"
     ]
    },
    {
     "data": {
      "text/plain": [
       "1.1102230246251565e-16"
      ]
     },
     "execution_count": 10,
     "metadata": {},
     "output_type": "execute_result"
    }
   ],
   "source": [
    "R = Rz.dot((Ry.dot(Rx)))\n",
    "t = np.array([[1],[0],[0]])\n",
    "P = np.hstack((R, t))\n",
    "P = np.vstack((P,[[0,0,0,1]]))\n",
    "print(P)\n",
    "\n",
    "(np.trace(R)-1)/2"
   ]
  },
  {
   "cell_type": "code",
   "execution_count": null,
   "metadata": {
    "collapsed": false,
    "jupyter": {
     "outputs_hidden": false
    },
    "pycharm": {
     "name": "#%%\n"
    }
   },
   "outputs": [],
   "source": []
  }
 ],
 "metadata": {
  "kernelspec": {
   "display_name": "Python 3 (ipykernel)",
   "language": "python",
   "name": "python3"
  },
  "language_info": {
   "codemirror_mode": {
    "name": "ipython",
    "version": 3
   },
   "file_extension": ".py",
   "mimetype": "text/x-python",
   "name": "python",
   "nbconvert_exporter": "python",
   "pygments_lexer": "ipython3",
   "version": "3.9.9"
  }
 },
 "nbformat": 4,
 "nbformat_minor": 4
}
