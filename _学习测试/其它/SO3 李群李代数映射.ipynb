{
 "cells": [
  {
   "cell_type": "code",
   "execution_count": 1,
   "id": "f81370ff-cb8e-4001-ad83-1efe501fdd62",
   "metadata": {},
   "outputs": [],
   "source": [
    "from scipy.linalg import expm\n",
    "from scipy.linalg import logm\n",
    "import numpy as np\n",
    "from math import *\n",
    "\n",
    "import cv2"
   ]
  },
  {
   "cell_type": "code",
   "execution_count": 2,
   "id": "fbeffcc7-314f-48cc-acbf-83c025f9fb60",
   "metadata": {},
   "outputs": [],
   "source": [
    "# 将向量转换为反对称矩阵 https://blog.csdn.net/weixin_44995665/article/details/102682666\n",
    "def Skew(a):\n",
    "    \"\"\"\n",
    "    得到了李代数对应的反对称矩阵\n",
    "    got the corresponded antiSymmetric Matrix of the Lie algebra\n",
    "    :param a:   Lie algebra 李代数\n",
    "    :return:    antiSymmetric Matrix 反对称矩阵\n",
    "    \"\"\"\n",
    "    \n",
    "    a=a.ravel() #压缩为一维\n",
    "    if len(a) == 3:\n",
    "        A = np.array([[0, -a[2], a[1]],\n",
    "                      [a[2], 0, -a[0]],\n",
    "                      [-a[1], a[0], 0]])\n",
    "        return A\n",
    "\n",
    "    if len(a) == 2:\n",
    "        A = np.array([a[1], -a[0]])\n",
    "        return A\n",
    "    exit(-1)"
   ]
  },
  {
   "cell_type": "code",
   "execution_count": 3,
   "id": "65a2cf70-303c-4613-a751-90c5451e601c",
   "metadata": {},
   "outputs": [],
   "source": [
    "# 将向量转换为反对称矩阵\n",
    "def InvSkew(A):\n",
    "    V = np.array([A[2,1],A[0,2],A[1,0]])\n",
    "    return V\n",
    "    exit(-1)"
   ]
  },
  {
   "cell_type": "code",
   "execution_count": 4,
   "id": "7e5fff34-df17-4130-b00b-4cf698d1e3ef",
   "metadata": {},
   "outputs": [],
   "source": [
    "# 李代数转李群\n",
    "def so3ToSO3(xi):\n",
    "    return expm(Skew(xi))"
   ]
  },
  {
   "cell_type": "code",
   "execution_count": 5,
   "id": "c09c4f73-2441-4453-84e5-3db97d5eefd5",
   "metadata": {},
   "outputs": [
    {
     "name": "stdout",
     "output_type": "stream",
     "text": [
      "[[ 6.123234e-17 -1.000000e+00  0.000000e+00]\n",
      " [ 1.000000e+00  6.123234e-17  0.000000e+00]\n",
      " [ 0.000000e+00  0.000000e+00  1.000000e+00]]\n",
      "aaa=\n",
      "[0.         0.         1.57079633]\n"
     ]
    },
    {
     "data": {
      "text/plain": [
       "1.570796326794897"
      ]
     },
     "execution_count": 5,
     "metadata": {},
     "output_type": "execute_result"
    }
   ],
   "source": [
    "# 李群转李代数\n",
    "tx=0*pi/4\n",
    "ty=0*pi/6\n",
    "tz=pi/2\n",
    "\n",
    "Rx=np.array(\n",
    "    [\n",
    "        [1,     0,          0],\n",
    "        [0,     cos(tx),    -sin(tx)],\n",
    "        [0,     sin(tx),    cos(tx)]\n",
    "    ])\n",
    "Ry=np.array(\n",
    "    [\n",
    "        [cos(ty),   0,      sin(ty)  ],\n",
    "        [0,         1,      0        ],\n",
    "        [-sin(ty),  0,      cos(ty)  ]\n",
    "    ])\n",
    "Rz=np.array(\n",
    "    [\n",
    "        [cos(tz),   -sin(tz),   0],\n",
    "        [sin(tz),   cos(tz),    0],\n",
    "        [0,         0,          1]\n",
    "    ])\n",
    "\n",
    "R = Rz.dot(Ry.dot(Rx)) #生成三维旋转矩阵R,也即是李群\n",
    "\n",
    "r = logm(R) #求矩阵的对数（正交矩阵的对数为对称矩阵）\n",
    "aaa = InvSkew(r) #将对数矩阵转化为对应的向量\n",
    "print(R)\n",
    "print(\"aaa=\")\n",
    "print(aaa)\n",
    "\n",
    "np.linalg.norm(aaa)"
   ]
  },
  {
   "cell_type": "code",
   "execution_count": 6,
   "id": "3ff29e7e-aa6b-48ab-81f3-f9f01aebb3c3",
   "metadata": {},
   "outputs": [
    {
     "name": "stdout",
     "output_type": "stream",
     "text": [
      "李群M=\n",
      "[[-4.50401187e-16 -1.00000000e+00 -0.00000000e+00]\n",
      " [ 1.00000000e+00 -4.50401187e-16  0.00000000e+00]\n",
      " [ 0.00000000e+00  0.00000000e+00  1.00000000e+00]]\n"
     ]
    }
   ],
   "source": [
    "# 李代数转李群\n",
    "\n",
    "M = expm(Skew(aaa)) #求李代数对应的李群\n",
    "print(\"李群M=\\r\\n\" + str(M))\n",
    "\n",
    "#print(\"矩阵的迹trace=\" + str(np.trace(M)))\n",
    "\n",
    "#print(\"eig =\" + str(np.linalg.eig(M)))\n",
    "\n",
    "#print(\"theta\")\n",
    "\n",
    "#print(theta)\n",
    "#a = aaa/theta\n",
    "#print(\"a\" + str(a))"
   ]
  },
  {
   "cell_type": "code",
   "execution_count": 7,
   "id": "76eef608-62d2-4fb6-967a-3a716602c0db",
   "metadata": {},
   "outputs": [
    {
     "name": "stdout",
     "output_type": "stream",
     "text": [
      "aaa=[0.         0.         1.57079633]\n",
      "1.570796326794897\n",
      "(3, 1)\n",
      "[[-3.8285687e-16 -0.0000000e+00 -0.0000000e+00]\n",
      " [-0.0000000e+00 -3.8285687e-16 -0.0000000e+00]\n",
      " [-0.0000000e+00 -0.0000000e+00 -3.8285687e-16]]\n",
      "[[0. 0. 0.]\n",
      " [0. 0. 0.]\n",
      " [0. 0. 1.]]\n",
      "[[ 0. -1.  0.]\n",
      " [ 1.  0. -0.]\n",
      " [-0.  0.  0.]]\n",
      "[[-3.8285687e-16 -1.0000000e+00  0.0000000e+00]\n",
      " [ 1.0000000e+00 -3.8285687e-16  0.0000000e+00]\n",
      " [ 0.0000000e+00  0.0000000e+00  1.0000000e+00]]\n"
     ]
    }
   ],
   "source": [
    "#手写\n",
    "print(\"aaa=\" + str(aaa))\n",
    "theta = np.linalg.norm(aaa)\n",
    "print(theta)\n",
    "a = aaa / theta\n",
    "a.shape=(3,1)\n",
    "\n",
    "print(a.shape)\n",
    "print(np.cos(theta)*np.eye(3))\n",
    "print(a.dot(a.T))\n",
    "print(Skew(a))\n",
    "\n",
    "b = np.cos(theta)*np.eye(3) + (1-np.cos(theta))*a.dot(a.T) + np.sin(theta)*Skew(a)\n",
    "print(b)"
   ]
  },
  {
   "cell_type": "code",
   "execution_count": 8,
   "id": "a554ee5b-0163-4173-997a-69acd51571a0",
   "metadata": {},
   "outputs": [],
   "source": [
    "#double theta = V.L2Norm();\n",
    "#Matrix<double> n = new DenseMatrix(3, 1, (V / V.L2Norm()).ToArray());\n",
    "#Matrix<double> R = Cos(theta) * DenseMatrix.CreateIdentity(3) + (1 - Cos(theta)) * n * n.Transpose() + Sin(theta) * Skew(n);\n"
   ]
  },
  {
   "cell_type": "code",
   "execution_count": 9,
   "id": "0c67cf77-effd-4a1a-ad8f-6495e0836db2",
   "metadata": {},
   "outputs": [
    {
     "name": "stdout",
     "output_type": "stream",
     "text": [
      "[[[-4.50401187e-16]\n",
      "  [-1.00000000e+00]\n",
      "  [-0.00000000e+00]]\n",
      "\n",
      " [[ 1.00000000e+00]\n",
      "  [-4.50401187e-16]\n",
      "  [ 0.00000000e+00]]\n",
      "\n",
      " [[ 0.00000000e+00]\n",
      "  [ 0.00000000e+00]\n",
      "  [ 1.00000000e+00]]]\n",
      "[[-4.50401187e-16 -1.00000000e+00 -0.00000000e+00]\n",
      " [ 1.00000000e+00 -4.50401187e-16  0.00000000e+00]\n",
      " [ 0.00000000e+00  0.00000000e+00  1.00000000e+00]]\n",
      "[[[0]\n",
      "  [0]\n",
      "  [0]]\n",
      "\n",
      " [[0]\n",
      "  [0]\n",
      "  [0]]\n",
      "\n",
      " [[0]\n",
      "  [0]\n",
      "  [0]]]\n"
     ]
    }
   ],
   "source": [
    "src = np.expand_dims(M, axis = -1)\n",
    "print(src)\n",
    "dst = np.zeros((3,3,1), np.uint8)\n",
    "cv2.Rodrigues(src,dst)\n",
    "print(M)\n",
    "print(dst)"
   ]
  },
  {
   "cell_type": "code",
   "execution_count": 10,
   "id": "ab1c3092-a21a-4256-9392-f91562c7a6ff",
   "metadata": {},
   "outputs": [],
   "source": [
    "# SE3李群李代数映射"
   ]
  },
  {
   "cell_type": "code",
   "execution_count": 11,
   "id": "bde1bd9b-313a-4506-a23f-0ad41c855c45",
   "metadata": {},
   "outputs": [
    {
     "name": "stdout",
     "output_type": "stream",
     "text": [
      "[[ 6.123234e-17 -1.000000e+00  0.000000e+00  1.000000e+00]\n",
      " [ 1.000000e+00  6.123234e-17  0.000000e+00  0.000000e+00]\n",
      " [ 0.000000e+00  0.000000e+00  1.000000e+00  0.000000e+00]\n",
      " [ 0.000000e+00  0.000000e+00  0.000000e+00  1.000000e+00]]\n"
     ]
    }
   ],
   "source": [
    "# 李群转李代数\n",
    "tx=0*pi/4\n",
    "ty=0*pi/6\n",
    "tz=pi/2\n",
    "\n",
    "Rx=np.array(\n",
    "    [\n",
    "        [1,     0,        0,        0],\n",
    "        [0,     cos(tx),  -sin(tx), 0],\n",
    "        [0,     sin(tx),  cos(tx),  0],\n",
    "        [0,0,0,1]\n",
    "    ])\n",
    "Ry=np.array(\n",
    "    [\n",
    "        [cos(ty),   0,      sin(ty),0  ],\n",
    "        [0,         1,      0      ,0  ],\n",
    "        [-sin(ty),  0,      cos(ty),0  ],\n",
    "        [0,0,0,1]\n",
    "    ])\n",
    "Rz=np.array(\n",
    "    [\n",
    "        [cos(tz),   -sin(tz),   0,0],\n",
    "        [sin(tz),   cos(tz),    0,0],\n",
    "        [0,         0,          1,0],\n",
    "        [0,0,0,1]\n",
    "    ])\n",
    "P=np.array(\n",
    "    [\n",
    "        [1, 0, 0, 1],\n",
    "        [0, 1, 0, 0],\n",
    "        [0, 0, 1, 0],\n",
    "        [0, 0, 0, 1]\n",
    "    ])\n",
    "T =P.dot(Rz.dot(Ry.dot(Rx)))#生成三维旋转矩阵R,也即是李群e\n",
    "print(T)"
   ]
  },
  {
   "cell_type": "code",
   "execution_count": null,
   "id": "31448143-19b8-47a4-ad93-8452dd1f2e6a",
   "metadata": {},
   "outputs": [],
   "source": []
  },
  {
   "cell_type": "code",
   "execution_count": 12,
   "id": "141e9d4e-8850-422d-b787-0a4a6b886b4a",
   "metadata": {},
   "outputs": [
    {
     "name": "stdout",
     "output_type": "stream",
     "text": [
      "[[ 0.78539816]\n",
      " [-0.78539816]\n",
      " [ 0.        ]\n",
      " [ 0.        ]\n",
      " [ 0.        ]\n",
      " [ 1.57079633]]\n"
     ]
    }
   ],
   "source": [
    "# 欧式群转李代数\n",
    "R=T[0:3,0:3]\n",
    "t=T[0:3,3:4]\n",
    "theta=np.arccos((np.trace(R)-1)/2)\n",
    "eigvalue,eigvector=np.linalg.eig(R)\n",
    "index=eigvalue.argmax()\n",
    "\n",
    "a=eigvector[:,index:index+1]\n",
    "a=np.real(a)\n",
    "\n",
    "J = (np.sin(theta)/theta)*np.eye(3) + (1 - np.sin(theta)/theta) * a.dot(a.T) + (1-np.cos(theta))/theta*Skew(a)\n",
    "rho = np.linalg.inv(J).dot(t)\n",
    "phi = theta * a\n",
    "\n",
    "ksi = np.vstack((rho,phi))\n",
    "print(ksi)"
   ]
  },
  {
   "cell_type": "code",
   "execution_count": 13,
   "id": "25e80fe8-ec3d-4b92-92f1-acf9e2c8cc85",
   "metadata": {},
   "outputs": [
    {
     "name": "stdout",
     "output_type": "stream",
     "text": [
      "[[0.        ]\n",
      " [0.        ]\n",
      " [1.57079633]]\n",
      "李群M=\n",
      "[[ 0. -1.  0.]\n",
      " [ 1.  0.  0.]\n",
      " [ 0.  0.  1.]]\n"
     ]
    }
   ],
   "source": [
    "# 李代数转欧式群\n",
    "rho=ksi[0:3,0:1]\n",
    "phi=ksi[3:7,0:1]\n",
    "print(phi)\n",
    "theta=np.linalg.norm(phi)\n",
    "a=phi/theta\n",
    "\n",
    "J = (np.sin(theta)/theta)*np.eye(3) + (1 - np.sin(theta)/theta) * a.dot(a.T) + (1-np.cos(theta))/theta*Skew(a)\n",
    "J.dot(rho)\n",
    "\n",
    "\n",
    "M = expm(Skew(phi)) #求李代数对应的李群\n",
    "print(\"李群M=\\r\\n\" + str(M))"
   ]
  }
 ],
 "metadata": {
  "kernelspec": {
   "display_name": "Python 3 (ipykernel)",
   "language": "python",
   "name": "python3"
  },
  "language_info": {
   "codemirror_mode": {
    "name": "ipython",
    "version": 3
   },
   "file_extension": ".py",
   "mimetype": "text/x-python",
   "name": "python",
   "nbconvert_exporter": "python",
   "pygments_lexer": "ipython3",
   "version": "3.9.9"
  }
 },
 "nbformat": 4,
 "nbformat_minor": 5
}
